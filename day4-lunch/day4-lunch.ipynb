{
 "cells": [
  {
   "cell_type": "markdown",
   "metadata": {},
   "source": [
    "# Day4- Lunch: Implement Binary Search"
   ]
  },
  {
   "cell_type": "markdown",
   "metadata": {},
   "source": [
    "- Find and report the nearest protein coding gene to the position 3R:21,378,950.\n",
    "- Report the gene's linear genomic distance from 3R:21,378,950.\n",
    "- How many iterations (a tally), did it take the search procedure to find the nearest gene? Report this."
   ]
  },
  {
   "cell_type": "code",
   "execution_count": 2,
   "metadata": {},
   "outputs": [
    {
     "name": "stdout",
     "output_type": "stream",
     "text": [
      "['\"CG2016\"', 4956999, 4961351]\n"
     ]
    }
   ],
   "source": [
    "f = open ('/Users/cmdb/data/genomes/BDGP6.Ensembl.81.gtf')\n",
    "\n",
    "counter = 0 \n",
    "stored_data = []\n",
    "for line in f:\n",
    "    if 'protein_coding' not in line:  #only uses lines with protein_coding, skips those that are not\n",
    "        continue\n",
    "    \n",
    "    field = line.split()\n",
    "    index_gname = field.index('gene_name') #only takes the field with gene_name in it\n",
    "    gene_name = field[index_gname + 1] #added 1 bc we don't want 'gene_name' but what is next to it\n",
    "    gene_name = gene_name.strip(';')  #removes ; from gene name\n",
    "    \n",
    "    if '3R' in field[0] and 'gene' in field[2]:\n",
    "        counter += 1\n",
    "        stored_data.append([gene_name, int(field[3]), int(field[4])])\n",
    "        #gene name with the start and stop position\n",
    "\n",
    "        \n",
    "print(stored_data[100])\n",
    "f.close()"
   ]
  },
  {
   "cell_type": "code",
   "execution_count": 11,
   "metadata": {},
   "outputs": [
    {
     "name": "stdout",
     "output_type": "stream",
     "text": [
      "gene: \"tin\" distance from search position: 27 number of iterations: 12\n"
     ]
    }
   ],
   "source": [
    "search_p = 21378950\n",
    "\n",
    "lo = 0 \n",
    "high = len(stored_data)-1 #minus 1 bc counting by zero\n",
    "mid = int((high+lo)/2) \n",
    "\n",
    "counter = 0\n",
    "\n",
    "while True:\n",
    "    counter += 1 #to count the number of iterations\n",
    "    \n",
    "    if high == lo + 1: \n",
    "        #this is where we decide which one is closer since we only have two left\n",
    "        dist_lo = abs(search_p - stored_data[lo][2])\n",
    "        dist_high = abs(stored_data[high][1] - search_p)\n",
    "        \n",
    "        if dist_lo < dist_high:\n",
    "            print('gene:', stored_data[lo][0], 'distance from search position:', \n",
    "                  dist_lo , 'number of iterations:',counter) \n",
    "            break\n",
    "        \n",
    "        if dist_high < dist_lo:\n",
    "            print('gene:',stored_data[high][0], 'distance from search position:', \n",
    "                  dist_high, 'number of iterations:' , counter)\n",
    "            break\n",
    "    \n",
    "    elif search_p < stored_data[mid][2]:\n",
    "        high = mid\n",
    "        mid = int((high+lo)/2)\n",
    "    \n",
    "    elif search_p > stored_data[mid][2]:   #do I have to redefine the new lo?\n",
    "        lo = mid \n",
    "        mid = int((high+lo)/2)\n",
    "    \n",
    "    elif high == lo:  #this is if we have one gene left\n",
    "        if search_p > stored_data[mid][1] and search_p < stored_data[mid][2]: #if the search_p is within the gene\n",
    "            print('gene:',stored_data[mid][0], 'distance from search position: 0', 'number of iterations:',  counter)\n",
    "            break\n",
    "        else:\n",
    "            dist_start = abs(search_p - stored_data[mid][1]) #tells the distance from the start to the search pos\n",
    "            dist_stop = abs(search_p - stored_data[mid][2]) #same thing just from the stop pos\n",
    "            m = min(dist_start, dist_stop)\n",
    "            print('gene:',stored_data[mid][0], 'distance from search position:', m , 'number of iterations:', counter)\n",
    "            break       "
   ]
  },
  {
   "cell_type": "code",
   "execution_count": null,
   "metadata": {},
   "outputs": [],
   "source": []
  },
  {
   "cell_type": "code",
   "execution_count": null,
   "metadata": {},
   "outputs": [],
   "source": []
  },
  {
   "cell_type": "code",
   "execution_count": null,
   "metadata": {},
   "outputs": [],
   "source": []
  },
  {
   "cell_type": "code",
   "execution_count": null,
   "metadata": {},
   "outputs": [],
   "source": []
  }
 ],
 "metadata": {
  "kernelspec": {
   "display_name": "Python 3",
   "language": "python",
   "name": "python3"
  },
  "language_info": {
   "codemirror_mode": {
    "name": "ipython",
    "version": 3
   },
   "file_extension": ".py",
   "mimetype": "text/x-python",
   "name": "python",
   "nbconvert_exporter": "python",
   "pygments_lexer": "ipython3",
   "version": "3.6.10"
  }
 },
 "nbformat": 4,
 "nbformat_minor": 4
}
