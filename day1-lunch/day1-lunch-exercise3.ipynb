{
 "cells": [
  {
   "cell_type": "markdown",
   "metadata": {},
   "source": [
    "# Exercise 3"
   ]
  },
  {
   "cell_type": "markdown",
   "metadata": {},
   "source": [
    "Plot K4, K9, and K27 chromosome distributions on the same plot as subplots."
   ]
  },
  {
   "cell_type": "code",
   "execution_count": 1,
   "metadata": {},
   "outputs": [],
   "source": [
    "#load packages\n",
    "\n",
    "import numpy as np\n",
    "import pandas as pd\n",
    "import matplotlib.pyplot as plt"
   ]
  },
  {
   "cell_type": "code",
   "execution_count": 2,
   "metadata": {},
   "outputs": [],
   "source": [
    "#load K4me3.bed file\n",
    "bed_columns = [\"chr\", \"start\", \"end\"]\n",
    "df_k4 = pd.read_table( \"~/qbb2020/data/K4me3.bed\", names=bed_columns )\n",
    "\n",
    "#what values in the chart to look at\n",
    "#plus the counts of chr\n",
    "chr_k4 = df_k4.loc[:,\"chr\"]\n",
    "chr_k4 = chr_k4.value_counts()\n",
    "\n",
    "\n",
    "#load K9me3.bed\n",
    "bed_columns = [\"chr\", \"start\", \"end\"]\n",
    "df_k9 = pd.read_table( \"~/qbb2020/data/K9me3.bed\", names=bed_columns )\n",
    "\n",
    "chr_k9 = df_k9.loc[:,\"chr\"]\n",
    "chr_k9 = chr_k9.value_counts()\n",
    "\n",
    "\n",
    "#load K27me3.bed\n",
    "bed_columns = [\"chr\", \"start\", \"end\"]\n",
    "df_k27 = pd.read_table( \"~/qbb2020/data/K27me3.bed\", names=bed_columns )\n",
    "\n",
    "chr_k27 = df_k27.loc[:,\"chr\"]\n",
    "chr_k27 = chr_k27.value_counts()"
   ]
  },
  {
   "cell_type": "code",
   "execution_count": 3,
   "metadata": {},
   "outputs": [
    {
     "data": {
      "image/png": "[encoded data removed]",
      "text/plain": [
       "<Figure size 432x288 with 3 Axes>"
      ]
     },
     "metadata": {
      "needs_background": "light"
     },
     "output_type": "display_data"
    }
   ],
   "source": [
    "fig, ax = plt.subplots(nrows=3, sharex=True, sharey=True)  #put this on the same plot\n",
    "coi_2 = [\"2L\", \"2R\", \"3L\", \"3R\", \"4\", \"X\"] #order of the axis\n",
    "ax[0].bar( chr_k4.loc[coi_2].index, chr_k4.loc[coi_2])\n",
    "ax[1].bar( chr_k9.loc[coi_2].index, chr_k9.loc[coi_2])\n",
    "ax[2].bar( chr_k27.loc[coi_2].index, chr_k27.loc[coi_2])\n",
    "fig.suptitle(\"Chromosome Distributions\")\n",
    "ax[2].set_xlabel(\"Chromosome\")\n",
    "ax[1].set_ylabel(\"(K4/K90/K27) Chromosome Occurences\")\n",
    "plt.show()"
   ]
  },
  {
   "cell_type": "code",
   "execution_count": null,
   "metadata": {},
   "outputs": [],
   "source": []
  }
 ],
 "metadata": {
  "kernelspec": {
   "display_name": "Python 3",
   "language": "python",
   "name": "python3"
  },
  "language_info": {
   "codemirror_mode": {
    "name": "ipython",
    "version": 3
   },
   "file_extension": ".py",
   "mimetype": "text/x-python",
   "name": "python",
   "nbconvert_exporter": "python",
   "pygments_lexer": "ipython3",
   "version": "3.6.10"
  }
 },
 "nbformat": 4,
 "nbformat_minor": 4
}
