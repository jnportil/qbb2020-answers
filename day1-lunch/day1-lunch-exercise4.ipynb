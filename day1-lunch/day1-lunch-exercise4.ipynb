{
 "cells": [
  {
   "cell_type": "markdown",
   "metadata": {},
   "source": [
    "# Exercise 4"
   ]
  },
  {
   "cell_type": "markdown",
   "metadata": {},
   "source": [
    "Plot K4, K9, and K27 width distributions on the same plot as subplots."
   ]
  },
  {
   "cell_type": "code",
   "execution_count": 1,
   "metadata": {},
   "outputs": [],
   "source": [
    "#load packages\n",
    "\n",
    "import numpy as np\n",
    "import pandas as pd\n",
    "import matplotlib.pyplot as plt"
   ]
  },
  {
   "cell_type": "code",
   "execution_count": 2,
   "metadata": {},
   "outputs": [],
   "source": [
    "#load K4me3.bed file\n",
    "bed_columns = [\"chr\", \"start\", \"end\"]\n",
    "df_k4 = pd.read_table( \"~/qbb2020/data/K4me3.bed\", names=bed_columns )\n",
    "\n",
    "#what values in the chart to look at\n",
    "#defined what the width is but subtracting end from start\n",
    "df_k4.loc[:,\"width\"] = df_k4.loc[:,\"end\"] - df_k4.loc[:,\"start\"]\n",
    "\n",
    "\n",
    "#load K9me3.bed\n",
    "bed_columns = [\"chr\", \"start\", \"end\"]\n",
    "df_k9 = pd.read_table( \"~/qbb2020/data/K9me3.bed\", names=bed_columns )\n",
    "\n",
    "df_k9.loc[:,\"width\"] = df_k9.loc[:,\"end\"] - df_k9.loc[:,\"start\"]\n",
    "\n",
    "#load K27me3.bed\n",
    "bed_columns = [\"chr\", \"start\", \"end\"]\n",
    "df_k27 = pd.read_table( \"~/qbb2020/data/K27me3.bed\", names=bed_columns )\n",
    "\n",
    "df_k27.loc[:,\"width\"] = df_k27.loc[:,\"end\"] - df_k27.loc[:,\"start\"]"
   ]
  },
  {
   "cell_type": "code",
   "execution_count": 3,
   "metadata": {},
   "outputs": [
    {
     "data": {
      "image/png": "[encoded data removed]",
      "text/plain": [
       "<Figure size 432x288 with 3 Axes>"
      ]
     },
     "metadata": {
      "needs_background": "light"
     },
     "output_type": "display_data"
    }
   ],
   "source": [
    "fig_2, ax = plt.subplots(nrows=3, sharex=True, sharey=True)\n",
    "ax[0].hist( df_k4.loc[:,\"width\"] )\n",
    "ax[1].hist( df_k9.loc[:,\"width\"] )\n",
    "ax[2].hist( df_k27.loc[:,\"width\"] )\n",
    "\n",
    "fig_2.suptitle(\"Chromosome Width Distributions\")\n",
    "ax[2].set_xlabel(\"Width\")\n",
    "ax[1].set_ylabel(\"(K4/K90/K27) Width Occurences\")\n",
    "plt.show()"
   ]
  }
 ],
 "metadata": {
  "kernelspec": {
   "display_name": "Python 3",
   "language": "python",
   "name": "python3"
  },
  "language_info": {
   "codemirror_mode": {
    "name": "ipython",
    "version": 3
   },
   "file_extension": ".py",
   "mimetype": "text/x-python",
   "name": "python",
   "nbconvert_exporter": "python",
   "pygments_lexer": "ipython3",
   "version": "3.6.10"
  }
 },
 "nbformat": 4,
 "nbformat_minor": 4
}
