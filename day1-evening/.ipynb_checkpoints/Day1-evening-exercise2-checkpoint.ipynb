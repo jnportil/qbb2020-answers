{
 "cells": [
  {
   "cell_type": "code",
   "execution_count": null,
   "metadata": {},
   "outputs": [],
   "source": []
  },
  {
   "cell_type": "code",
   "execution_count": null,
   "metadata": {},
   "outputs": [],
   "source": [
    "f = open('/Users/cmdb/data/results/SRR072893.sam')\n",
    "i = 0\n",
    "m = 0\n",
    "for line in f:\n",
    "    if line.find('NM:i:0') > -1:\n",
    "        m += 1\n",
    "    i += 1\n",
    "print ('number of matches:', i)\n",
    "print ('number of exact matches:', m)\n",
    "\n",
    "f.close()"
   ]
  },
  {
   "cell_type": "code",
   "execution_count": 1,
   "metadata": {},
   "outputs": [
    {
     "name": "stdout",
     "output_type": "stream",
     "text": [
      "chr location for first ten lines:\n",
      "2L\n",
      "2L\n",
      "2L\n",
      "2L\n",
      "2L\n",
      "2L\n",
      "2L\n",
      "2L\n",
      "2L\n",
      "2L\n",
      "10\n"
     ]
    }
   ],
   "source": [
    "f = open('/Users/cmdb/data/results/SRR072893.sam')\n",
    "\n",
    "print('chr location for first ten lines:')\n",
    "i = 0\n",
    "\n",
    "for line in f:\n",
    "        if i == 10:\n",
    "            break\n",
    "        fields = line.rstrip('\\n\\r').split('\\t')\n",
    "        print(fields[2])\n",
    "        i += 1\n",
    "        \n",
    "print(i)"
   ]
  },
  {
   "cell_type": "code",
   "execution_count": null,
   "metadata": {},
   "outputs": [],
   "source": []
  }
 ],
 "metadata": {
  "kernelspec": {
   "display_name": "Python 3",
   "language": "python",
   "name": "python3"
  },
  "language_info": {
   "codemirror_mode": {
    "name": "ipython",
    "version": 3
   },
   "file_extension": ".py",
   "mimetype": "text/x-python",
   "name": "python",
   "nbconvert_exporter": "python",
   "pygments_lexer": "ipython3",
   "version": "3.6.10"
  }
 },
 "nbformat": 4,
 "nbformat_minor": 4
}
