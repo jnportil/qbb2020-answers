{
 "cells": [
  {
   "cell_type": "markdown",
   "metadata": {},
   "source": [
    "# Exercise 2"
   ]
  },
  {
   "cell_type": "markdown",
   "metadata": {},
   "source": [
    "Count number of alignments that match perfectly to the genome"
   ]
  },
  {
   "cell_type": "code",
   "execution_count": 1,
   "metadata": {},
   "outputs": [
    {
     "name": "stdout",
     "output_type": "stream",
     "text": [
      "number of matches: 2000000\n",
      "number of exact matches: 1702765\n"
     ]
    }
   ],
   "source": [
    "f = open('/Users/cmdb/data/results/SRR072893.sam')\n",
    "\n",
    "#define variables\n",
    "i = 0 #iteration count\n",
    "m = 0 #count of the exact matches\n",
    "\n",
    "for line in f:\n",
    "    if line.find('NM:i:0') > -1:\n",
    "        m += 1 \n",
    "    i += 1\n",
    "\n",
    "print ('number of matches:', i) #Double check to counts are the same as last time\n",
    "print ('number of exact matches:', m)\n",
    "\n",
    "f.close()"
   ]
  },
  {
   "cell_type": "code",
   "execution_count": null,
   "metadata": {},
   "outputs": [],
   "source": []
  }
 ],
 "metadata": {
  "kernelspec": {
   "display_name": "Python 3",
   "language": "python",
   "name": "python3"
  },
  "language_info": {
   "codemirror_mode": {
    "name": "ipython",
    "version": 3
   },
   "file_extension": ".py",
   "mimetype": "text/x-python",
   "name": "python",
   "nbconvert_exporter": "python",
   "pygments_lexer": "ipython3",
   "version": "3.6.10"
  }
 },
 "nbformat": 4,
 "nbformat_minor": 4
}
