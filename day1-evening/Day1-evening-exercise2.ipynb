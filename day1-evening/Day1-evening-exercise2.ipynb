{
 "cells": [
  {
   "cell_type": "code",
   "execution_count": null,
   "metadata": {},
   "outputs": [],
   "source": []
  },
  {
   "cell_type": "code",
   "execution_count": null,
   "metadata": {},
   "outputs": [],
   "source": [
    "f = open('/Users/cmdb/data/results/SRR072893.sam')\n",
    "i = 0\n",
    "m = 0\n",
    "for line in f:\n",
    "    if line.find('NM:i:0') > -1:\n",
    "        m += 1\n",
    "    i += 1\n",
    "print ('number of matches:', i)\n",
    "print ('number of exact matches:', m)\n",
    "\n",
    "f.close()"
   ]
  },
  {
   "cell_type": "code",
   "execution_count": 1,
   "metadata": {},
   "outputs": [
    {
     "name": "stdout",
     "output_type": "stream",
     "text": [
      "chr location for first ten lines:\n",
      "2L\n",
      "2L\n",
      "2L\n",
      "2L\n",
      "2L\n",
      "2L\n",
      "2L\n",
      "2L\n",
      "2L\n",
      "2L\n",
      "10\n"
     ]
    }
   ],
   "source": [
    "f = open('/Users/cmdb/data/results/SRR072893.sam')\n",
    "\n",
    "print('chr location for first ten lines:')\n",
    "i = 0\n",
    "\n",
    "for line in f:\n",
    "        if i == 10:\n",
    "            break\n",
    "        fields = line.rstrip('\\n\\r').split('\\t')\n",
    "        print(fields[2])\n",
    "        i += 1\n",
    "        \n",
    "print(i)"
   ]
  },
  {
   "cell_type": "code",
   "execution_count": 4,
   "metadata": {},
   "outputs": [
    {
     "name": "stdout",
     "output_type": "stream",
     "text": [
      "chr location for first ten lines:\n",
      "['SRR072893.1692271', '0', '2L', '7583', '60', '40M', '*', '0', '0', 'AGAGAACCCACGTTTGAACAAGTATCGGCGTGTGGACAAC', '<9799:>A>?:?:?>A?>><1;297-00+/C@@C8/>@49', 'AS:i:0', 'XN:i:0', 'XM:i:0', 'XO:i:0', 'XG:i:0', 'NM:i:0', 'MD:Z:40', 'YT:Z:UU', 'NH:i:1']\n",
      "['SRR072893.7719878', '0', '2L', '7583', '60', '40M', '*', '0', '0', 'AGAGAACCCACGTTTGAACAAGTATCGGCGTGTGGACAAC', 'CCCCCCCCCCCCCCCCCCCCCCDBCCCCCCCCCCCDCCCC', 'AS:i:0', 'XN:i:0', 'XM:i:0', 'XO:i:0', 'XG:i:0', 'NM:i:0', 'MD:Z:40', 'YT:Z:UU', 'NH:i:1']\n",
      "['SRR072893.246931', '16', '2L', '8508', '60', '40M', '*', '0', '0', 'GAAGAAAGTGACCAAGCTCATTCCGTTAACAGAGGAGCAC', 'CCDCCCDBCCCCCCCCC@CCCCCCCCCCCCCCCCCCCCCC', 'AS:i:0', 'XN:i:0', 'XM:i:0', 'XO:i:0', 'XG:i:0', 'NM:i:0', 'MD:Z:40', 'YT:Z:UU', 'NH:i:1']\n",
      "['SRR072893.17706329', '256', '2L', '8878', '1', '40M', '*', '0', '0', 'CGCTGGACTCGCAAAGTGGACTTGTTCAGCAAGGACATAA', 'CCCCCCCCCCCCCCCCCCCCCCCCCCCCCCCBCCCCCCCC', 'AS:i:0', 'ZS:i:0', 'XN:i:0', 'XM:i:0', 'XO:i:0', 'XG:i:0', 'NM:i:0', 'MD:Z:40', 'YT:Z:UU', 'NH:i:2']\n",
      "['SRR072893.5095623', '256', '2L', '8879', '1', '40M', '*', '0', '0', 'GCTGGACTCGCAAAGTGGACTTGTTCAGCAAGGACATAAT', 'CCCCBCCCCCCCCCCCCCCCCCCCCCCCCCCCCBCCCCCC', 'AS:i:0', 'ZS:i:0', 'XN:i:0', 'XM:i:0', 'XO:i:0', 'XG:i:0', 'NM:i:0', 'MD:Z:40', 'YT:Z:UU', 'NH:i:2']\n",
      "['SRR072893.14590169', '0', '2L', '8879', '0', '40M', '*', '0', '0', 'GCTAGACTCGCAAAGTGGACTTGTTCAGCAAGGACATAAT', ';9;+9BBBBBCCCCCCC?CCCCCCCCCCCCCCCCCCCCCD', 'AS:i:-3', 'ZS:i:-3', 'XN:i:0', 'XM:i:1', 'XO:i:0', 'XG:i:0', 'NM:i:1', 'MD:Z:3G36', 'YT:Z:UU', 'NH:i:2']\n",
      "['SRR072893.262430', '272', '2L', '8943', '0', '7S33M', '*', '0', '0', 'GGCCCACCGTCCACTGGTGCATGGCCATCATACACTTGCG', '%%%%%%%%%%%%%%%@CCCCCCBCCCCCCCCCACCCCCCC', 'AS:i:-7', 'ZS:i:-7', 'XN:i:0', 'XM:i:0', 'XO:i:0', 'XG:i:0', 'NM:i:0', 'MD:Z:33', 'YT:Z:UU', 'NH:i:2']\n",
      "['SRR072893.15272481', '272', '2L', '8943', '0', '7S33M', '*', '0', '0', 'CCGCCACCGTCCACTGGTGCATGGCCATCATACACTTGCG', '%%%%%%%CCCCCACCCCCCCCCCCC@CCCCCCC@CCCCCC', 'AS:i:-7', 'ZS:i:-7', 'XN:i:0', 'XM:i:0', 'XO:i:0', 'XG:i:0', 'NM:i:0', 'MD:Z:33', 'YT:Z:UU', 'NH:i:2']\n",
      "['SRR072893.11131141', '16', '2L', '9323', '1', '40M', '*', '0', '0', 'TTATTTTTACAAATCTTACGTAAACACTCCAAGCATGAAT', 'BBCCCCCCCCCCCCCCCCCCCCCCCCCCCCCCCCCCCCCC', 'AS:i:0', 'ZS:i:0', 'XN:i:0', 'XM:i:0', 'XO:i:0', 'XG:i:0', 'NM:i:0', 'MD:Z:40', 'YT:Z:UU', 'NH:i:2']\n",
      "['SRR072893.672847', '0', '2L', '9326', '1', '40M', '*', '0', '0', 'TTTTTACAAATCTTACGTAAACACTCCAAGCATGAATTCG', 'CCCCCCCCCBCCCCCCCCCACBCCCBCCCCCCCCCCC@CC', 'AS:i:0', 'ZS:i:0', 'XN:i:0', 'XM:i:0', 'XO:i:0', 'XG:i:0', 'NM:i:0', 'MD:Z:40', 'YT:Z:UU', 'NH:i:2']\n",
      "10\n"
     ]
    }
   ],
   "source": [
    "f = open('/Users/cmdb/data/results/SRR072893.sam')\n",
    "\n",
    "print('chr location for first ten lines:')\n",
    "i = 0\n",
    "mapq = 0\n",
    "\n",
    "for line in f:\n",
    "        if i == 10:\n",
    "            break\n",
    "        fields = line.rstrip('\\n\\r').split('\\t')\n",
    "        print(fields)\n",
    "        i += 1\n",
    "        \n",
    "print(i)"
   ]
  },
  {
   "cell_type": "code",
   "execution_count": null,
   "metadata": {},
   "outputs": [],
   "source": []
  }
 ],
 "metadata": {
  "kernelspec": {
   "display_name": "Python 3",
   "language": "python",
   "name": "python3"
  },
  "language_info": {
   "codemirror_mode": {
    "name": "ipython",
    "version": 3
   },
   "file_extension": ".py",
   "mimetype": "text/x-python",
   "name": "python",
   "nbconvert_exporter": "python",
   "pygments_lexer": "ipython3",
   "version": "3.6.10"
  }
 },
 "nbformat": 4,
 "nbformat_minor": 4
}
