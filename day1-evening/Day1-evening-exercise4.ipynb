{
 "cells": [
  {
   "cell_type": "markdown",
   "metadata": {},
   "source": [
    "# Exercise 4"
   ]
  },
  {
   "cell_type": "markdown",
   "metadata": {},
   "source": [
    "Calculate average MAPQ score across all reads"
   ]
  },
  {
   "cell_type": "code",
   "execution_count": 1,
   "metadata": {},
   "outputs": [
    {
     "name": "stdout",
     "output_type": "stream",
     "text": [
      "Average MAPQ score: 59.6407825\n",
      "number of alignments: 2000000\n"
     ]
    }
   ],
   "source": [
    "f = open('/Users/cmdb/data/results/SRR072893.sam')\n",
    "\n",
    "#define variables\n",
    "i = 0 #iteratiion count\n",
    "mapq = 0 \n",
    "\n",
    "for line in f:\n",
    "    fields = line.rstrip('\\n\\r').split('\\t')\n",
    "    mapq += int(fields[4]) #adds all the mapq \n",
    "    i += 1\n",
    "        \n",
    "print('Average MAPQ score:', mapq/i)\n",
    "print('number of alignments:', i) #check: the number of alignemnts are still the same"
   ]
  }
 ],
 "metadata": {
  "kernelspec": {
   "display_name": "Python 3",
   "language": "python",
   "name": "python3"
  },
  "language_info": {
   "codemirror_mode": {
    "name": "ipython",
    "version": 3
   },
   "file_extension": ".py",
   "mimetype": "text/x-python",
   "name": "python",
   "nbconvert_exporter": "python",
   "pygments_lexer": "ipython3",
   "version": "3.6.10"
  }
 },
 "nbformat": 4,
 "nbformat_minor": 4
}
