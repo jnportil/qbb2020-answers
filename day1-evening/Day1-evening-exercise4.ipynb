{
 "cells": [
  {
   "cell_type": "markdown",
   "metadata": {},
   "source": [
    "Exercise 4"
   ]
  },
  {
   "cell_type": "code",
   "execution_count": 5,
   "metadata": {},
   "outputs": [
    {
     "name": "stdout",
     "output_type": "stream",
     "text": [
      "Average MAPQ score: 59.6407825\n",
      "number of alignments: 2000000\n"
     ]
    }
   ],
   "source": [
    "f = open('/Users/cmdb/data/results/SRR072893.sam')\n",
    "\n",
    "i = 0\n",
    "mapq = 0\n",
    "\n",
    "for line in f:\n",
    "        fields = line.rstrip('\\n\\r').split('\\t')\n",
    "        mapq += int(fields[4])\n",
    "        i += 1\n",
    "        \n",
    "print('Average MAPQ score:', mapq/i)\n",
    "print('number of alignments:', i)"
   ]
  },
  {
   "cell_type": "code",
   "execution_count": null,
   "metadata": {},
   "outputs": [],
   "source": []
  },
  {
   "cell_type": "code",
   "execution_count": null,
   "metadata": {},
   "outputs": [],
   "source": []
  },
  {
   "cell_type": "code",
   "execution_count": null,
   "metadata": {},
   "outputs": [],
   "source": []
  }
 ],
 "metadata": {
  "kernelspec": {
   "display_name": "Python 3",
   "language": "python",
   "name": "python3"
  },
  "language_info": {
   "codemirror_mode": {
    "name": "ipython",
    "version": 3
   },
   "file_extension": ".py",
   "mimetype": "text/x-python",
   "name": "python",
   "nbconvert_exporter": "python",
   "pygments_lexer": "ipython3",
   "version": "3.6.10"
  }
 },
 "nbformat": 4,
 "nbformat_minor": 4
}
