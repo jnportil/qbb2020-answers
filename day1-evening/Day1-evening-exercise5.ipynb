{
 "cells": [
  {
   "cell_type": "markdown",
   "metadata": {},
   "source": [
    "# Exercise 5"
   ]
  },
  {
   "cell_type": "markdown",
   "metadata": {},
   "source": [
    "Count number of reads that start their alignment on chromosome 2L between base 10000 and 20000 (inclusive)"
   ]
  },
  {
   "cell_type": "code",
   "execution_count": 1,
   "metadata": {},
   "outputs": [
    {
     "name": "stdout",
     "output_type": "stream",
     "text": [
      "alignments on chr2L within 10K & 20K: 7550\n",
      "number of alignments: 2000000\n"
     ]
    }
   ],
   "source": [
    "f = open('/Users/cmdb/data/results/SRR072893.sam') \n",
    "\n",
    "#define variables\n",
    "i = 0 #iteratiion count\n",
    "within_alignment = 0 #variables that fall withing 10k& 20k on chr2L\n",
    "\n",
    "#start iteration loop\n",
    "for line in f:\n",
    "        fields = line.rstrip('\\n\\r').split('\\t') #strip away deliniations\n",
    "        if fields[2] == '2L': #start conditions\n",
    "            if int(fields[3]) >= 10000:\n",
    "                if int(fields[3]) <= 20000:\n",
    "                    within_alignment += 1\n",
    "        i += 1 #iterate to next line\n",
    "        \n",
    "print('alignments on chr2L within 10K & 20K:' , within_alignment)        \n",
    "print('number of alignments:', i)\n",
    "\n",
    "f.close()"
   ]
  }
 ],
 "metadata": {
  "kernelspec": {
   "display_name": "Python 3",
   "language": "python",
   "name": "python3"
  },
  "language_info": {
   "codemirror_mode": {
    "name": "ipython",
    "version": 3
   },
   "file_extension": ".py",
   "mimetype": "text/x-python",
   "name": "python",
   "nbconvert_exporter": "python",
   "pygments_lexer": "ipython3",
   "version": "3.6.10"
  }
 },
 "nbformat": 4,
 "nbformat_minor": 4
}
