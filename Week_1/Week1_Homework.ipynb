{
 "cells": [
  {
   "cell_type": "markdown",
   "metadata": {},
   "source": [
    "# Assignment 1: Genome Assembly"
   ]
  },
  {
   "cell_type": "markdown",
   "metadata": {},
   "source": [
    "## Question 1. Coverage Analysis"
   ]
  },
  {
   "cell_type": "markdown",
   "metadata": {},
   "source": [
    "#### Question 1a. How long is the reference genome?"
   ]
  },
  {
   "cell_type": "markdown",
   "metadata": {},
   "source": [
    "Command(s):\n",
    "\n",
    "samtools faidx ref.fa\n",
    "\n",
    "less -S asm/ref.fa.fai\n",
    "\n",
    "Output:\n",
    "Halomonas       233806  11      70      71\n",
    "\n",
    "Genome size: 233806"
   ]
  },
  {
   "cell_type": "markdown",
   "metadata": {},
   "source": [
    "#### Question 1b. How many reads are provided and how long are they? Make sure to measure each file separately"
   ]
  },
  {
   "cell_type": "markdown",
   "metadata": {},
   "source": [
    "Command(s):\n",
    "\n",
    "FastQC frag180.1.fq\n",
    "\n",
    "FastQC frag180.2.fq \n",
    "\n",
    "FastQC jump2k.2.fq \n",
    "\n",
    "FastQC jump2k.1.fq\n"
   ]
  },
  {
   "cell_type": "markdown",
   "metadata": {},
   "source": [
    "Opened HTML files\n",
    "\n",
    "frag180\n",
    "reads: 35178\n",
    "length: 100\n",
    "\n",
    "jump2k\n",
    "reads: 70355\n",
    "length: 50"
   ]
  },
  {
   "attachments": {},
   "cell_type": "markdown",
   "metadata": {},
   "source": [
    "<img src=\"images/download-10.png\" />"
   ]
  },
  {
   "attachments": {},
   "cell_type": "markdown",
   "metadata": {},
   "source": [
    "<img src=\"images/download-11.png\" />"
   ]
  },
  {
   "attachments": {},
   "cell_type": "markdown",
   "metadata": {},
   "source": [
    "<img src=\"images/download-13.png\" />"
   ]
  },
  {
   "attachments": {},
   "cell_type": "markdown",
   "metadata": {},
   "source": [
    "<img src=\"images/download-12.png\" />"
   ]
  },
  {
   "cell_type": "markdown",
   "metadata": {},
   "source": [
    "#### Question 1c. How much coverage do you expect to have?"
   ]
  },
  {
   "cell_type": "markdown",
   "metadata": {},
   "source": [
    "coverage = total_bases_sequenced / genome_size\n",
    "\n",
    "coverage = [35178(100) + 70355(50) ] / 233806\n",
    "\n",
    "coverage = 30.09"
   ]
  },
  {
   "cell_type": "markdown",
   "metadata": {},
   "source": [
    "#### Question 1d. Plot the average quality value across the length of the reads"
   ]
  },
  {
   "attachments": {},
   "cell_type": "markdown",
   "metadata": {},
   "source": [
    "frag180.1.fq\n",
    "\n",
    "<img src=\"images/download.png\" />"
   ]
  },
  {
   "attachments": {},
   "cell_type": "markdown",
   "metadata": {},
   "source": [
    "frag180.2.fq\n",
    "\n",
    "<img src=\"images/download-1.png\" />"
   ]
  },
  {
   "attachments": {},
   "cell_type": "markdown",
   "metadata": {},
   "source": [
    "jump2k.1.fq\n",
    "\n",
    "<img src=\"images/download-2.png\" />"
   ]
  },
  {
   "attachments": {},
   "cell_type": "markdown",
   "metadata": {},
   "source": [
    "jump2k.2.fq\n",
    "\n",
    "<img src=\"images/download-3.png\" />"
   ]
  },
  {
   "cell_type": "markdown",
   "metadata": {},
   "source": [
    "## Question 2. Kmer Analysis"
   ]
  },
  {
   "cell_type": "markdown",
   "metadata": {},
   "source": [
    "#### Question 2a. How many kmers occur exactly 50 times?"
   ]
  },
  {
   "cell_type": "markdown",
   "metadata": {},
   "source": [
    "Commands:\n",
    "\n",
    "jellyfish count -m 21 -C -s 1000000 ~/qbb2020-answers/Week_1/asm/*.fq\n",
    "\n",
    "jellyfish histo mer_counts.jf > reads.histo\n",
    "\n",
    "cat reads.histo\n",
    "\n",
    "\n",
    "Answer: 1091 kmers occur 50 times."
   ]
  },
  {
   "cell_type": "markdown",
   "metadata": {},
   "source": [
    "#### Question 2b. What are the top 10 most frequently occurring kmers"
   ]
  },
  {
   "cell_type": "markdown",
   "metadata": {},
   "source": [
    "Commands:\n",
    "\n",
    "jellyfish dump  mer_counts.jf > mer_dump_counts.jf\n",
    "\n",
    "cat mer_dump_counts.jf | sort -k 2 -nr | head -10"
   ]
  },
  {
   "attachments": {},
   "cell_type": "markdown",
   "metadata": {},
   "source": [
    "<img src=\"images/download-4.png\" />"
   ]
  },
  {
   "cell_type": "markdown",
   "metadata": {},
   "source": [
    "#### Question 2c. What is the estimated genome size based on the kmer frequencies? "
   ]
  },
  {
   "cell_type": "markdown",
   "metadata": {},
   "source": [
    "233,468bp"
   ]
  },
  {
   "attachments": {},
   "cell_type": "markdown",
   "metadata": {},
   "source": [
    "<img src=\"images/download-5.png\" />"
   ]
  },
  {
   "cell_type": "markdown",
   "metadata": {},
   "source": [
    "#### Question 2d. How well does the GenomeScope genome size estimate compare to the reference genome?"
   ]
  },
  {
   "cell_type": "markdown",
   "metadata": {},
   "source": [
    "GenomeScope estimated the reference genome well. The min and max arre within a ~400bp range and the max value is almost exactly what actual size of the genome."
   ]
  },
  {
   "cell_type": "markdown",
   "metadata": {},
   "source": [
    "## Question 3. De novo assembly"
   ]
  },
  {
   "cell_type": "markdown",
   "metadata": {},
   "source": [
    "#### Question 3a. How many contigs were produced? "
   ]
  },
  {
   "cell_type": "markdown",
   "metadata": {},
   "source": [
    "Commands:\n",
    "\n",
    "spades.py --pe1-1 frag180.1.fq --pe1-2 frag180.2.fq --mp1-1 jump2k.1.fq --mp1-2 jump2k.2.fq -o asm -t 4 -k 31\n",
    "\n",
    "grep -c '>' contigs.fasta\n",
    "\n",
    "Output:\n",
    "4\n",
    "\n",
    "There were 4 contigs produced."
   ]
  },
  {
   "cell_type": "markdown",
   "metadata": {},
   "source": [
    "#### Question 3b. What is the total length of the contigs?"
   ]
  },
  {
   "cell_type": "markdown",
   "metadata": {},
   "source": [
    "Commands:\n",
    "\n",
    "samtools faidx contigs.fasta\n",
    "\n",
    "cat contigs.fasta.fai\n",
    "\n",
    "Answer:\n",
    "\n",
    "Added them together.\n",
    "\n",
    "Total length of contigs: 234467"
   ]
  },
  {
   "attachments": {},
   "cell_type": "markdown",
   "metadata": {},
   "source": [
    "<img src=\"images/download-6.png\" />"
   ]
  },
  {
   "cell_type": "markdown",
   "metadata": {},
   "source": [
    "#### Question 3c. What is the size of your largest contig?"
   ]
  },
  {
   "cell_type": "markdown",
   "metadata": {},
   "source": [
    "NODE_1_length_105831_cov_20.671371:  105831"
   ]
  },
  {
   "cell_type": "markdown",
   "metadata": {},
   "source": [
    "#### Question 3d. What is the contig N50 size? "
   ]
  },
  {
   "cell_type": "markdown",
   "metadata": {},
   "source": [
    "half the total length falls within the second longest contig\n",
    "NODE_2_length_47861_cov_20.231319: 47861"
   ]
  },
  {
   "cell_type": "markdown",
   "metadata": {},
   "source": [
    "## Question 4. Whole Genome Alignment"
   ]
  },
  {
   "cell_type": "markdown",
   "metadata": {},
   "source": [
    "#### Question 4a. What is the average identify of your assembly compared to the reference? "
   ]
  },
  {
   "cell_type": "markdown",
   "metadata": {},
   "source": [
    "Commands:\n",
    "\n",
    "dnadiff ~/qbb2020-answers/Week_1/asm/ref.fa ~/qbb2020-answers/Week_1/asm/asm/scaffolds.fasta\n",
    "\n",
    "cat out.report\n",
    "\n",
    "Both are 99.98"
   ]
  },
  {
   "cell_type": "markdown",
   "metadata": {},
   "source": [
    "#### Question 4b. What is the length of the longest alignment?"
   ]
  },
  {
   "cell_type": "markdown",
   "metadata": {},
   "source": [
    "Commands:\n",
    "\n",
    "nucmer ~/qbb2020-answers/Week_1/asm/ref.fa ~/qbb2020-answers/Week_1/asm/asm/scaffolds.fasta\n",
    "\n",
    "show-coords out.delta\n",
    "\n",
    "Longest alignment: 207006(reference), 206998(assembly)"
   ]
  },
  {
   "attachments": {},
   "cell_type": "markdown",
   "metadata": {},
   "source": [
    "<img src=\"images/download-7.png\" />"
   ]
  },
  {
   "cell_type": "markdown",
   "metadata": {},
   "source": [
    "#### Question 4c. How many insertions and deletions are in the assembly? "
   ]
  },
  {
   "cell_type": "markdown",
   "metadata": {},
   "source": [
    "Insertions: 1\n",
    "Deletions: 2"
   ]
  },
  {
   "cell_type": "markdown",
   "metadata": {},
   "source": [
    "## Question 5. Decoding the insertion"
   ]
  },
  {
   "cell_type": "markdown",
   "metadata": {},
   "source": [
    "#### Question 5a. What is the position of the insertion in your assembly? Provide the corresponding position in the reference."
   ]
  },
  {
   "cell_type": "markdown",
   "metadata": {},
   "source": [
    "Position in assembly: 206999 - 207710\n",
    "\n",
    "Position in reference: (between) 26789 - 26790"
   ]
  },
  {
   "cell_type": "markdown",
   "metadata": {},
   "source": [
    "#### Question 5b. How long is the novel insertion? "
   ]
  },
  {
   "cell_type": "markdown",
   "metadata": {},
   "source": [
    "207710 - 206999 = 111\n",
    "Insert length: 111"
   ]
  },
  {
   "cell_type": "markdown",
   "metadata": {},
   "source": [
    "#### Question 5c. What is the DNA sequence of the encoded message? "
   ]
  },
  {
   "cell_type": "markdown",
   "metadata": {},
   "source": [
    "Command:\n",
    "\n",
    "samtools faidx ~/qbb2020-answers/Week_1/asm/asm/scaffolds.fasta NODE_1_length_234497_cov_20.508040:206999-207710 > insert_sequence.fasta"
   ]
  },
  {
   "attachments": {},
   "cell_type": "markdown",
   "metadata": {},
   "source": [
    "<img src=\"images/download-8.png\" />"
   ]
  },
  {
   "cell_type": "markdown",
   "metadata": {},
   "source": [
    "#### Question 5d. What is the secret message? "
   ]
  },
  {
   "cell_type": "markdown",
   "metadata": {},
   "source": [
    "Commands:\n",
    "\n",
    "python ported_decoder.py --decode --rev_comp --input ~/qbb2020-answers/Week_1/asm/asm/insert_sequence.fasta > decoded_message.fasta"
   ]
  },
  {
   "attachments": {},
   "cell_type": "markdown",
   "metadata": {},
   "source": [
    "<img src=\"images/download-9.png\" />"
   ]
  }
 ],
 "metadata": {
  "kernelspec": {
   "display_name": "Python 3",
   "language": "python",
   "name": "python3"
  },
  "language_info": {
   "codemirror_mode": {
    "name": "ipython",
    "version": 3
   },
   "file_extension": ".py",
   "mimetype": "text/x-python",
   "name": "python",
   "nbconvert_exporter": "python",
   "pygments_lexer": "ipython3",
   "version": "3.6.10"
  }
 },
 "nbformat": 4,
 "nbformat_minor": 4
}
